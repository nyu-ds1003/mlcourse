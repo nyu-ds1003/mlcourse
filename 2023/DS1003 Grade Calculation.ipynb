{
 "cells": [
  {
   "cell_type": "code",
   "execution_count": 1,
   "metadata": {},
   "outputs": [],
   "source": [
    "import pandas as pd\n",
    "import numpy as np\n",
    "import pandas as pd\n",
    "pd.options.mode.chained_assignment = None  # default='warn'\n",
    "pd.set_option('display.max_rows', None)\n",
    "import os\n",
    "import re"
   ]
  },
  {
   "cell_type": "code",
   "execution_count": 2,
   "metadata": {},
   "outputs": [],
   "source": [
    "all_cd = '/Users/colinwan/Desktop/DS-GA_1003_Spring_2022_grades.csv'\n",
    "all_df = pd.read_csv(all_cd)"
   ]
  },
  {
   "cell_type": "code",
   "execution_count": 3,
   "metadata": {},
   "outputs": [],
   "source": [
    "cd = '/Users/colinwan/Desktop/1003 hw grades/'"
   ]
  },
  {
   "cell_type": "code",
   "execution_count": 4,
   "metadata": {},
   "outputs": [
    {
     "data": {
      "text/html": [
       "<div>\n",
       "<style scoped>\n",
       "    .dataframe tbody tr th:only-of-type {\n",
       "        vertical-align: middle;\n",
       "    }\n",
       "\n",
       "    .dataframe tbody tr th {\n",
       "        vertical-align: top;\n",
       "    }\n",
       "\n",
       "    .dataframe thead th {\n",
       "        text-align: right;\n",
       "    }\n",
       "</style>\n",
       "<table border=\"1\" class=\"dataframe\">\n",
       "  <thead>\n",
       "    <tr style=\"text-align: right;\">\n",
       "      <th></th>\n",
       "      <th>Name</th>\n",
       "      <th>SID</th>\n",
       "      <th>Email</th>\n",
       "      <th>hw1</th>\n",
       "      <th>hw1 - Max Points</th>\n",
       "      <th>hw1 - Lateness (H:M:S)</th>\n",
       "      <th>hw2</th>\n",
       "      <th>hw2 - Max Points</th>\n",
       "      <th>hw2 - Lateness (H:M:S)</th>\n",
       "      <th>hw3</th>\n",
       "      <th>...</th>\n",
       "      <th>hw6 - Lateness (H:M:S)</th>\n",
       "      <th>hw7</th>\n",
       "      <th>hw7 - Max Points</th>\n",
       "      <th>hw7 - Lateness (H:M:S)</th>\n",
       "      <th>Final Exam</th>\n",
       "      <th>Final Exam - Max Points</th>\n",
       "      <th>Final Exam - Lateness (H:M:S)</th>\n",
       "      <th>Total Lateness (H:M:S)</th>\n",
       "      <th>acc_late_days</th>\n",
       "      <th>net_id</th>\n",
       "    </tr>\n",
       "  </thead>\n",
       "  <tbody>\n",
       "    <tr>\n",
       "      <th>0</th>\n",
       "      <td>Aashiq Mohamed Baig</td>\n",
       "      <td>NaN</td>\n",
       "      <td>amb1558@nyu.edu</td>\n",
       "      <td>32.0</td>\n",
       "      <td>37.0</td>\n",
       "      <td>00:00:00</td>\n",
       "      <td>40.5</td>\n",
       "      <td>41.0</td>\n",
       "      <td>00:00:00</td>\n",
       "      <td>69.0</td>\n",
       "      <td>...</td>\n",
       "      <td>00:00:00</td>\n",
       "      <td>15.5</td>\n",
       "      <td>31.0</td>\n",
       "      <td>00:00:00</td>\n",
       "      <td>65.5</td>\n",
       "      <td>100.0</td>\n",
       "      <td>00:00:00</td>\n",
       "      <td>25:17:59</td>\n",
       "      <td>0</td>\n",
       "      <td>amb1558</td>\n",
       "    </tr>\n",
       "    <tr>\n",
       "      <th>1</th>\n",
       "      <td>Adeet Patel</td>\n",
       "      <td>NaN</td>\n",
       "      <td>ajp756@nyu.edu</td>\n",
       "      <td>30.0</td>\n",
       "      <td>37.0</td>\n",
       "      <td>46:39:28</td>\n",
       "      <td>34.0</td>\n",
       "      <td>41.0</td>\n",
       "      <td>00:00:00</td>\n",
       "      <td>43.0</td>\n",
       "      <td>...</td>\n",
       "      <td>17:46:08</td>\n",
       "      <td>8.0</td>\n",
       "      <td>31.0</td>\n",
       "      <td>00:00:00</td>\n",
       "      <td>49.5</td>\n",
       "      <td>100.0</td>\n",
       "      <td>01:14:36</td>\n",
       "      <td>65:40:12</td>\n",
       "      <td>0</td>\n",
       "      <td>ajp756</td>\n",
       "    </tr>\n",
       "    <tr>\n",
       "      <th>2</th>\n",
       "      <td>Aditya Srikanth</td>\n",
       "      <td>NaN</td>\n",
       "      <td>aks9136@nyu.edu</td>\n",
       "      <td>29.0</td>\n",
       "      <td>37.0</td>\n",
       "      <td>00:00:00</td>\n",
       "      <td>34.0</td>\n",
       "      <td>41.0</td>\n",
       "      <td>00:00:00</td>\n",
       "      <td>39.5</td>\n",
       "      <td>...</td>\n",
       "      <td>00:00:00</td>\n",
       "      <td>8.0</td>\n",
       "      <td>31.0</td>\n",
       "      <td>00:00:00</td>\n",
       "      <td>41.0</td>\n",
       "      <td>100.0</td>\n",
       "      <td>00:00:00</td>\n",
       "      <td>19:45:13</td>\n",
       "      <td>0</td>\n",
       "      <td>aks9136</td>\n",
       "    </tr>\n",
       "    <tr>\n",
       "      <th>3</th>\n",
       "      <td>Ailene Zhang</td>\n",
       "      <td>NaN</td>\n",
       "      <td>az1509@nyu.edu</td>\n",
       "      <td>27.0</td>\n",
       "      <td>37.0</td>\n",
       "      <td>00:00:00</td>\n",
       "      <td>36.0</td>\n",
       "      <td>41.0</td>\n",
       "      <td>00:00:00</td>\n",
       "      <td>58.5</td>\n",
       "      <td>...</td>\n",
       "      <td>40:43:38</td>\n",
       "      <td>12.0</td>\n",
       "      <td>31.0</td>\n",
       "      <td>38:58:56</td>\n",
       "      <td>34.0</td>\n",
       "      <td>100.0</td>\n",
       "      <td>00:00:00</td>\n",
       "      <td>100:23:12</td>\n",
       "      <td>0</td>\n",
       "      <td>az1509</td>\n",
       "    </tr>\n",
       "    <tr>\n",
       "      <th>4</th>\n",
       "      <td>Aiqing Li</td>\n",
       "      <td>N17327836</td>\n",
       "      <td>al5452@nyu.edu</td>\n",
       "      <td>33.0</td>\n",
       "      <td>37.0</td>\n",
       "      <td>22:40:41</td>\n",
       "      <td>39.0</td>\n",
       "      <td>41.0</td>\n",
       "      <td>22:52:58</td>\n",
       "      <td>55.5</td>\n",
       "      <td>...</td>\n",
       "      <td>20:16:46</td>\n",
       "      <td>12.0</td>\n",
       "      <td>31.0</td>\n",
       "      <td>00:00:00</td>\n",
       "      <td>56.0</td>\n",
       "      <td>100.0</td>\n",
       "      <td>00:00:00</td>\n",
       "      <td>135:23:53</td>\n",
       "      <td>0</td>\n",
       "      <td>al5452</td>\n",
       "    </tr>\n",
       "  </tbody>\n",
       "</table>\n",
       "<p>5 rows × 33 columns</p>\n",
       "</div>"
      ],
      "text/plain": [
       "                  Name        SID            Email   hw1  hw1 - Max Points  \\\n",
       "0  Aashiq Mohamed Baig        NaN  amb1558@nyu.edu  32.0              37.0   \n",
       "1          Adeet Patel        NaN   ajp756@nyu.edu  30.0              37.0   \n",
       "2      Aditya Srikanth        NaN  aks9136@nyu.edu  29.0              37.0   \n",
       "3         Ailene Zhang        NaN   az1509@nyu.edu  27.0              37.0   \n",
       "4            Aiqing Li  N17327836   al5452@nyu.edu  33.0              37.0   \n",
       "\n",
       "  hw1 - Lateness (H:M:S)   hw2  hw2 - Max Points hw2 - Lateness (H:M:S)   hw3  \\\n",
       "0               00:00:00  40.5              41.0               00:00:00  69.0   \n",
       "1               46:39:28  34.0              41.0               00:00:00  43.0   \n",
       "2               00:00:00  34.0              41.0               00:00:00  39.5   \n",
       "3               00:00:00  36.0              41.0               00:00:00  58.5   \n",
       "4               22:40:41  39.0              41.0               22:52:58  55.5   \n",
       "\n",
       "   ...  hw6 - Lateness (H:M:S)   hw7  hw7 - Max Points  \\\n",
       "0  ...                00:00:00  15.5              31.0   \n",
       "1  ...                17:46:08   8.0              31.0   \n",
       "2  ...                00:00:00   8.0              31.0   \n",
       "3  ...                40:43:38  12.0              31.0   \n",
       "4  ...                20:16:46  12.0              31.0   \n",
       "\n",
       "   hw7 - Lateness (H:M:S) Final Exam  Final Exam - Max Points  \\\n",
       "0                00:00:00       65.5                    100.0   \n",
       "1                00:00:00       49.5                    100.0   \n",
       "2                00:00:00       41.0                    100.0   \n",
       "3                38:58:56       34.0                    100.0   \n",
       "4                00:00:00       56.0                    100.0   \n",
       "\n",
       "   Final Exam - Lateness (H:M:S) Total Lateness (H:M:S)  acc_late_days  \\\n",
       "0                       00:00:00               25:17:59              0   \n",
       "1                       01:14:36               65:40:12              0   \n",
       "2                       00:00:00               19:45:13              0   \n",
       "3                       00:00:00              100:23:12              0   \n",
       "4                       00:00:00              135:23:53              0   \n",
       "\n",
       "    net_id  \n",
       "0  amb1558  \n",
       "1   ajp756  \n",
       "2  aks9136  \n",
       "3   az1509  \n",
       "4   al5452  \n",
       "\n",
       "[5 rows x 33 columns]"
      ]
     },
     "execution_count": 4,
     "metadata": {},
     "output_type": "execute_result"
    }
   ],
   "source": [
    "all_df = all_df.loc[:, ~all_df.columns.str.contains('Submission Time')]\n",
    "all_df['acc_late_days'] = 0\n",
    "all_df['net_id'] = all_df['Email'].str.strip('@nyu.edu')\n",
    "all_df.head()"
   ]
  },
  {
   "cell_type": "code",
   "execution_count": 5,
   "metadata": {},
   "outputs": [],
   "source": [
    "info_col = ['Name', 'SID', 'Email', 'net_id','acc_late_days']\n",
    "info_df = all_df.loc[:,info_col]\n"
   ]
  },
  {
   "cell_type": "code",
   "execution_count": 6,
   "metadata": {},
   "outputs": [],
   "source": [
    "opt_q = {'hw1': [15],\n",
    "         'hw2': [21,22,23,24,25],\n",
    "         'hw3': [14, 32,33,34,35],\n",
    "         'hw4': [8],\n",
    "         'hw5': [11,12,13,14,15,16],\n",
    "         'hw6': [10,11,12],\n",
    "         'hw7': [12,13,14],\n",
    "        }\n",
    "bonous = {'hw3':[1,2,3,13,29,30,31]}\n",
    "bonus_points = {'hw3':[3,1,4,1,3,3,2]}"
   ]
  },
  {
   "cell_type": "code",
   "execution_count": 7,
   "metadata": {},
   "outputs": [],
   "source": [
    "def add_late(x):\n",
    "    sub_late = x['hw'+str(i)+' - Lateness (H:M:S)']\n",
    "    late_days = 0\n",
    "    \n",
    "    if sub_late<'24:00:00' and sub_late>'00:00:00':\n",
    "        late_days = 1\n",
    "    elif sub_late>'24:00:00' and sub_late<'48:00:00':\n",
    "        late_days = 2\n",
    "    elif sub_late>'48:00:00':\n",
    "        late_days = int(sub_late[:2])//24+1\n",
    "        p = late_days - min(2, 7-late_days)\n",
    "        x['final_score'] = x['score'] * 0.8**p\n",
    "        x['acc_late_days'] += min(2, 7-late_days)\n",
    "        x['penalty'] = 0.8**p\n",
    "    \n",
    "    if late_days <=2:\n",
    "        if x['acc_late_days'] + late_days<=7:\n",
    "            x['acc_late_days']+= late_days\n",
    "            x['final_score'] = x['score']\n",
    "        else:\n",
    "            x['final_score'] = x['score']*0.8**(late_days+x['acc_late_days']-7)\n",
    "            x['penalty'] = 0.8**(late_days+x['acc_late_days']-7)\n",
    "            x['acc_late_days'] = 7\n",
    "    x['late']=late_days\n",
    "    \n",
    "    return x\n",
    "\n",
    "        \n",
    "def split_score(df, optional_questions):\n",
    "    mandatory_total = 0\n",
    "    optional_total = 0\n",
    "    optional_keys = []\n",
    "    mandatory_keys = []\n",
    "    for key in df.keys():\n",
    "        if \"q\" not in key.lower():\n",
    "            continue\n",
    "        tot_question_points = re.findall('\\(.*?\\)', key)\n",
    "        tot_question_points = float(tot_question_points[0].split(\" \")[0][1:])\n",
    "        optional = False\n",
    "        for item in optional_questions:\n",
    "            if \"q\"+str(item) in key.lower():\n",
    "                # print(item, \", Full Key: \", key, \", Total Question Points: \", tot_question_points)\n",
    "                optional = True\n",
    "                break\n",
    "        if not optional:\n",
    "            mandatory_total+=tot_question_points\n",
    "            mandatory_keys.append(key)\n",
    "        else:\n",
    "            optional_keys.append(key)\n",
    "            optional_total+=tot_question_points\n",
    "        \n",
    "\n",
    "    df['Mandatory Sum'] = df[mandatory_keys].sum(axis=1)\n",
    "    df['Mandatory Total'] = mandatory_total\n",
    "    df['Optional Sum'] = df[optional_keys].sum(axis=1)\n",
    "    df['Optional Total'] = optional_total\n",
    "    return df\n",
    "\n"
   ]
  },
  {
   "cell_type": "code",
   "execution_count": 8,
   "metadata": {},
   "outputs": [
    {
     "name": "stdout",
     "output_type": "stream",
     "text": [
      "hw1_scores.csv\n",
      "hw4_scores.csv\n",
      "hw3_scores.csv\n",
      "hw6_scores.csv\n",
      "hw5_scores.csv\n",
      "hw7_scores.csv\n",
      "hw2_scores.csv\n"
     ]
    }
   ],
   "source": [
    "agg_df = info_df\n",
    "for hw in os.listdir(cd):\n",
    "    print(hw)\n",
    "    hw_df = pd.read_csv(cd+hw)\n",
    "    hw_name = hw.split('_')[0]\n",
    "    split_hw = split_score(hw_df, opt_q[hw_name])\n",
    "    split_hw = split_hw[['Name', 'SID', 'Email','Mandatory Sum', 'Mandatory Total', 'Optional Sum', 'Optional Total','Lateness (H:M:S)']]\n",
    "    split_hw.columns = ['Name', 'SID', 'Email',hw_name, hw_name+' - Max Points', hw_name +' - Optional Sum',hw_name +' - Optional Max Points',hw_name+ ' - Lateness (H:M:S)']\n",
    "    \n",
    "    agg_df = pd.merge(agg_df,split_hw,how='outer',left_on=['Name', 'SID', 'Email'],right_on=['Name', 'SID', 'Email'])\n",
    "agg_df['acc_late_days'] = 0\n",
    "agg_df['net_id'] = agg_df['Email'].str.strip('@nyu.edu')    \n"
   ]
  },
  {
   "cell_type": "code",
   "execution_count": 9,
   "metadata": {},
   "outputs": [],
   "source": [
    "agg_df['hw3 - Max Points'] = agg_df['hw3 - Max Points'] - sum(bonus_points['hw3'])"
   ]
  },
  {
   "cell_type": "code",
   "execution_count": 15,
   "metadata": {},
   "outputs": [
    {
     "name": "stdout",
     "output_type": "stream",
     "text": [
      "1\n",
      "2\n",
      "3\n",
      "4\n",
      "5\n",
      "6\n",
      "7\n"
     ]
    }
   ],
   "source": [
    "# Check Late Days & Adjust HW Grades\n",
    "for i in range(1,8):\n",
    "    print(i)\n",
    "    cur_df = agg_df.loc[:, agg_df.columns.str.contains('hw'+str(i))]\n",
    "    cur_df['acc_late_days'] = info_df.loc[:,'acc_late_days']\n",
    "    cur_df['score'] = (cur_df.iloc[:,0]/cur_df.iloc[:,1]).clip(upper=1)\n",
    "    cur_df['optional_score'] = (cur_df.iloc[:,2]/cur_df.iloc[:,3]).clip(upper=1)\n",
    "    cur_df['penalty'] = 0\n",
    "    cur_df['late'] = 0\n",
    "    cur_df['final_score'] = 0\n",
    "    cur_df.fillna(\"00:00:00\", inplace=True)\n",
    "\n",
    "    new_df = cur_df.apply(add_late,axis=1)\n",
    "\n",
    "\n",
    "    info_df['acc_late_days'] = new_df['acc_late_days']\n",
    "    info_df['hw'+str(i)+'_late_time'] = new_df['hw'+str(i)+' - Lateness (H:M:S)']\n",
    "    info_df['hw'+str(i)+'_score'] = new_df['score']\n",
    "    info_df['hw'+str(i)+'_penalty'] = new_df['penalty']\n",
    "    info_df['hw'+str(i)+'_late'] = new_df['late']\n",
    "    info_df['hw'+str(i)+'_final_score'] = new_df['final_score']\n",
    "    info_df['hw'+str(i)+'_optional_score'] = new_df['optional_score']\n",
    "#     info_df['hw'+str(i)+'_optional_max'] = new_df['optional_']\n",
    "\n"
   ]
  },
  {
   "cell_type": "code",
   "execution_count": 16,
   "metadata": {},
   "outputs": [],
   "source": [
    "# Midterm\n",
    "midterm = all_df.loc[:, all_df.columns.str.contains('Midterm')]\n",
    "\n",
    "info_df['midterm_grade'] = midterm.iloc[:,0]/midterm.iloc[:,1]\n",
    "info_df['midterm_late'] = midterm.iloc[:,-1]>\"00:00:00\"\n",
    "info_df['midterm_final_score'] = info_df['midterm_grade'] - info_df['midterm_late']*0.02\n"
   ]
  },
  {
   "cell_type": "code",
   "execution_count": 17,
   "metadata": {},
   "outputs": [],
   "source": [
    "# Final\n",
    "final = all_df.loc[:, all_df.columns.str.contains('Final')]\n",
    "\n",
    "info_df['final_grade'] = final.iloc[:,0]/final.iloc[:,1]\n",
    "info_df['final_late'] = final.iloc[:,-1]>\"00:00:00\"\n",
    "info_df['final_final_score'] = info_df['final_grade'] - info_df['final_late']*0.02\n"
   ]
  },
  {
   "cell_type": "code",
   "execution_count": 39,
   "metadata": {},
   "outputs": [],
   "source": [
    "hist_data = info_df.loc[:,info_df.columns.str.contains('optional')].mean(1)\n",
    "cut_off1, cut_off2 = hist_data.quantile(0.75), hist_data.quantile(0.5)\n",
    "info_df['optional_final_score'] = (hist_data>cut_off2)*0.01 + (hist_data>cut_off1)*0.01"
   ]
  },
  {
   "cell_type": "code",
   "execution_count": 58,
   "metadata": {},
   "outputs": [],
   "source": [
    "ind = info_df.columns.str.contains('final_score')\n",
    "ind[:4] = True\n",
    "final_grades = info_df.loc[:,ind]\n",
    "# final_grades"
   ]
  },
  {
   "cell_type": "code",
   "execution_count": 53,
   "metadata": {},
   "outputs": [],
   "source": [
    "raw_final = final_grades.loc[:, final_grades.columns.str.contains('hw')].mean(1)*0.4 \\\n",
    "                    + (final_grades['midterm_final_score']+final_grades['final_final_score'])*0.3 + final_grades['optional_final_score']\n",
    "final_grades['raw_final'] = raw_final"
   ]
  },
  {
   "cell_type": "code",
   "execution_count": 57,
   "metadata": {},
   "outputs": [],
   "source": [
    "final_ind = [0,1,2,3,14]\n",
    "final_grades.iloc[:, final_ind].to_csv('Just_final_grades.csv')"
   ]
  },
  {
   "cell_type": "code",
   "execution_count": 51,
   "metadata": {},
   "outputs": [
    {
     "data": {
      "text/plain": [
       "<AxesSubplot:>"
      ]
     },
     "execution_count": 51,
     "metadata": {},
     "output_type": "execute_result"
    },
    {
     "data": {
      "image/png": "[encoded data removed]",
      "text/plain": [
       "<Figure size 432x288 with 1 Axes>"
      ]
     },
     "metadata": {
      "needs_background": "light"
     },
     "output_type": "display_data"
    }
   ],
   "source": [
    "final_grades['raw_final'].hist(bins=20)"
   ]
  },
  {
   "cell_type": "code",
   "execution_count": 56,
   "metadata": {},
   "outputs": [],
   "source": [
    "final_grades.to_csv('DSGA1003_SP22_Final_Raw.csv')"
   ]
  },
  {
   "cell_type": "code",
   "execution_count": null,
   "metadata": {},
   "outputs": [],
   "source": []
  }
 ],
 "metadata": {
  "kernelspec": {
   "display_name": "Python 3",
   "language": "python",
   "name": "python3"
  },
  "language_info": {
   "codemirror_mode": {
    "name": "ipython",
    "version": 3
   },
   "file_extension": ".py",
   "mimetype": "text/x-python",
   "name": "python",
   "nbconvert_exporter": "python",
   "pygments_lexer": "ipython3",
   "version": "3.7.7"
  }
 },
 "nbformat": 4,
 "nbformat_minor": 4
}
