{
  "cells": [
    {
      "cell_type": "markdown",
      "metadata": {
        "id": "WB2Ispo3n7UN"
      },
      "source": [
        "# DS GA 1003 Machine Learning Spring 2023\n",
        "## Lab 5 Demo: SVM for MNIST Digit Recognition\n",
        "\n",
        "In this demo, you will learn to:\n",
        "* Load and display images\n",
        "* Formulate image classification problems\n",
        "* Explain the limitations of linear classifiers for image classification\n",
        "* Build a simple SVM image classifier \n",
        "* Save and load results using `pickle`.\n",
        "\n",
        "For data, we will use the classic [MNIST](https://en.wikipedia.org/wiki/MNIST_database) data set used to recognize hand-written digits.  The dataset was originally produced in the 1980s and is now widely-used in machine learning classes as a simple image classification problem.  "
      ]
    },
    {
      "cell_type": "markdown",
      "metadata": {
        "id": "K8uCUoSUn7UO"
      },
      "source": [
        "## Loading the Data\n",
        "\n",
        "First, we load the standard packages."
      ]
    },
    {
      "cell_type": "code",
      "execution_count": null,
      "metadata": {
        "id": "DjeLnln5n7UP"
      },
      "outputs": [],
      "source": [
        "import numpy as np\n",
        "import matplotlib\n",
        "import matplotlib.pyplot as plt\n",
        "%matplotlib inline"
      ]
    },
    {
      "cell_type": "markdown",
      "metadata": {
        "id": "S-WWfRV5n7UP"
      },
      "source": [
        "Since the MNIST dataset is so widely-used, it comes in as a build-in dataset in many packages. In this lab, we will download the data from the Tensorflow package -- See here for [installations instructions](https://www.tensorflow.org/install).  You can get the data from other sources as well. \n",
        "\n",
        "In the Tensorflow dataset, the training and test data are represented as arrays:\n",
        "\n",
        "     Xtr.shape = 60000 x 28 x 28\n",
        "     Xts.shape = 10000 x 28 x 28\n",
        "     \n",
        "The test data consists of `60000` images of size `28 x 28` pixels; the test data consists of `10000` images."
      ]
    },
    {
      "cell_type": "code",
      "execution_count": null,
      "metadata": {
        "colab": {
          "base_uri": "https://localhost:8080/"
        },
        "id": "JYHpzN_Pn7UQ",
        "outputId": "57fc0a39-c429-40d9-aabc-08efe3428085"
      },
      "outputs": [
        {
          "name": "stdout",
          "output_type": "stream",
          "text": [
            "Xtr shape: (60000, 28, 28)\n",
            "Xts shape: (10000, 28, 28)\n"
          ]
        }
      ],
      "source": [
        "import tensorflow as tf\n",
        "\n",
        "(Xtr,ytr),(Xts,yts) = tf.keras.datasets.mnist.load_data()\n",
        "\n",
        "print('Xtr shape: %s' % str(Xtr.shape))\n",
        "print('Xts shape: %s' % str(Xts.shape))\n",
        "\n",
        "ntr = Xtr.shape[0]\n",
        "nts = Xts.shape[0]\n",
        "nrow = Xtr.shape[1]\n",
        "ncol = Xtr.shape[2]"
      ]
    },
    {
      "cell_type": "markdown",
      "metadata": {
        "id": "zz-W1bwzn7UQ"
      },
      "source": [
        "Each pixel value is from `[0,255]`.  For this lab, it will be convenient to recale the value to -1 to 1 and reshape it as a `ntr x npix` and `nts x npix`."
      ]
    },
    {
      "cell_type": "code",
      "execution_count": null,
      "metadata": {
        "id": "YrFONxkyn7UR"
      },
      "outputs": [],
      "source": [
        "npix = nrow*ncol\n",
        "Xtr = 2*(Xtr/255 - 0.5)\n",
        "Xtr = Xtr.reshape((ntr,npix))\n",
        "\n",
        "Xts = 2*(Xts/255 - 0.5)\n",
        "Xts = Xts.reshape((nts,npix))"
      ]
    },
    {
      "cell_type": "code",
      "execution_count": null,
      "metadata": {
        "colab": {
          "base_uri": "https://localhost:8080/",
          "height": 107
        },
        "id": "1KAreoG1n7UR",
        "outputId": "a1fa49c1-2303-4b29-efbd-fb0d6df43022"
      },
      "outputs": [
        {
          "data": {
            "image/png": "[encoded data removed]",
            "text/plain": [
              "<Figure size 432x288 with 4 Axes>"
            ]
          },
          "metadata": {},
          "output_type": "display_data"
        }
      ],
      "source": [
        "def plt_digit(x):\n",
        "    nrow = 28\n",
        "    ncol = 28\n",
        "    xsq = x.reshape((nrow,ncol))\n",
        "    plt.imshow(xsq,  cmap='Greys_r')\n",
        "    plt.xticks([])\n",
        "    plt.yticks([])\n",
        "\n",
        "# Select random digits\n",
        "nplt = 4\n",
        "Iperm = np.random.permutation(ntr)\n",
        "\n",
        "# Plot the images using the subplot command\n",
        "for i in range(nplt):\n",
        "    ind = Iperm[i]\n",
        "    plt.subplot(1,nplt,i+1)\n",
        "    plt_digit(Xtr[ind,:])"
      ]
    },
    {
      "cell_type": "markdown",
      "metadata": {
        "id": "eskxL8dDn7UR"
      },
      "source": [
        "## Trying a Logistic Regression Classifier\n",
        "\n",
        "To classify the digits, we will first use a logistic classifier.  We select a small number of samples for training. Generally, you would use more training samples, but the optimizer is very slow.  "
      ]
    },
    {
      "cell_type": "code",
      "execution_count": null,
      "metadata": {
        "id": "9-vZGYBXn7UR"
      },
      "outputs": [],
      "source": [
        "ntr1 = 1000\n",
        "Xtr1 = Xtr[Iperm[:ntr1],:]\n",
        "ytr1 = ytr[Iperm[:ntr1]]"
      ]
    },
    {
      "cell_type": "markdown",
      "metadata": {
        "id": "P7QNTD9pn7US"
      },
      "source": [
        "Now we run the optimizer.  I have placed the `verbose=10` option so that you can see the progress.  It may not appear in the browser but in the command line where you launched jupyter notebook.  This can take several minutes and will likely say that it ran out of iterations."
      ]
    },
    {
      "cell_type": "code",
      "execution_count": null,
      "metadata": {
        "colab": {
          "base_uri": "https://localhost:8080/"
        },
        "id": "hUX_ukFxn7US",
        "outputId": "e4dd2cf9-4ac8-4b30-d2b8-fa79f83561f5"
      },
      "outputs": [
        {
          "name": "stderr",
          "output_type": "stream",
          "text": [
            "[Parallel(n_jobs=1)]: Using backend SequentialBackend with 1 concurrent workers.\n",
            "/usr/local/lib/python3.8/dist-packages/sklearn/linear_model/_logistic.py:814: ConvergenceWarning: lbfgs failed to converge (status=1):\n",
            "STOP: TOTAL NO. of ITERATIONS REACHED LIMIT.\n",
            "\n",
            "Increase the number of iterations (max_iter) or scale the data as shown in:\n",
            "    https://scikit-learn.org/stable/modules/preprocessing.html\n",
            "Please also refer to the documentation for alternative solver options:\n",
            "    https://scikit-learn.org/stable/modules/linear_model.html#logistic-regression\n",
            "  n_iter_i = _check_optimize_result(\n",
            "[Parallel(n_jobs=1)]: Done   1 out of   1 | elapsed:   17.9s remaining:    0.0s\n",
            "[Parallel(n_jobs=1)]: Done   1 out of   1 | elapsed:   17.9s finished\n"
          ]
        },
        {
          "data": {
            "text/plain": [
              "LogisticRegression(multi_class='multinomial', verbose=10)"
            ]
          },
          "execution_count": 10,
          "metadata": {},
          "output_type": "execute_result"
        }
      ],
      "source": [
        "from sklearn import linear_model\n",
        "logreg = linear_model.LogisticRegression(verbose=10, solver='lbfgs',\\\n",
        "                                         multi_class='multinomial',max_iter=100)\n",
        "logreg.fit(Xtr1,ytr1)"
      ]
    },
    {
      "cell_type": "markdown",
      "metadata": {
        "id": "BCY9jHbDn7US"
      },
      "source": [
        "Before continuing, since it takes so long to run the optimizer, let's save the results in a file.  You can use `pickle` module for this purpose."
      ]
    },
    {
      "cell_type": "code",
      "execution_count": null,
      "metadata": {
        "id": "KzQBSyAmn7US"
      },
      "outputs": [],
      "source": [
        "import pickle\n",
        "\n",
        "with open( \"mnist_logreg.pkl\", \"wb\" ) as fp:\n",
        "    pickle.dump( [logreg, Xtr1, ytr1, Iperm],  fp)"
      ]
    },
    {
      "cell_type": "markdown",
      "metadata": {
        "id": "pvUvDXqLn7US"
      },
      "source": [
        "Then, we can recover the objects via the `pickle.load` command"
      ]
    },
    {
      "cell_type": "code",
      "execution_count": null,
      "metadata": {
        "id": "lkxTjwJtn7US"
      },
      "outputs": [],
      "source": [
        "with open( \"mnist_logreg.pkl\", \"rb\" ) as fp:\n",
        "    logreg, Xtr1, ytr1, Iperm = pickle.load(fp)"
      ]
    },
    {
      "cell_type": "markdown",
      "metadata": {
        "id": "n5OCoZM9n7UT"
      },
      "source": [
        "Now, we can measure the accuracy on the test data.  Again, we will test on a small sub-sample."
      ]
    },
    {
      "cell_type": "code",
      "execution_count": null,
      "metadata": {
        "colab": {
          "base_uri": "https://localhost:8080/"
        },
        "id": "4C_hKxNCn7UT",
        "outputId": "2ef41d10-a99e-4726-890c-63784cef874b"
      },
      "outputs": [
        {
          "name": "stdout",
          "output_type": "stream",
          "text": [
            "Accuaracy = 0.864000\n"
          ]
        }
      ],
      "source": [
        "nts1 = 1000\n",
        "Iperm_ts = np.random.permutation(nts) \n",
        "Xts1 = Xts[Iperm_ts[:nts1],:]\n",
        "yts1 = yts[Iperm_ts[:nts1]]\n",
        "yhat = logreg.predict(Xts1)\n",
        "acc = np.mean(yhat == yts1)\n",
        "print('Accuaracy = {0:f}'.format(acc))"
      ]
    },
    {
      "cell_type": "markdown",
      "metadata": {
        "id": "720JB2Hrn7UT"
      },
      "source": [
        "You should get an accuracy of around 86%.  This may sounds OK, but it is actually very poor.  Had we increased the number of training samples, it would have improved to about 92%, but that is still very bad.  To illustrate, let's plot some of the errors.  "
      ]
    },
    {
      "cell_type": "code",
      "execution_count": null,
      "metadata": {
        "colab": {
          "base_uri": "https://localhost:8080/",
          "height": 172
        },
        "id": "lsQKziRWn7UT",
        "outputId": "136795af-8f08-4aca-f862-00d426bd01a5"
      },
      "outputs": [
        {
          "data": {
            "image/png": "[encoded data removed]",
            "text/plain": [
              "<Figure size 720x288 with 4 Axes>"
            ]
          },
          "metadata": {},
          "output_type": "display_data"
        }
      ],
      "source": [
        "nplt = 4\n",
        "Ierr = np.where(yts1 != yhat)[0]\n",
        "\n",
        "plt.figure(figsize=(10, 4))\n",
        "for i in range(nplt):        \n",
        "    plt.subplot(1,nplt,i+1)        \n",
        "    ind = Ierr[i]    \n",
        "    plt_digit(Xts1[ind,:])        \n",
        "    title = 'true={0:d} est={1:d}'.format(yts1[ind].astype(int), yhat[ind].astype(int))\n",
        "    plt.title(title)"
      ]
    },
    {
      "cell_type": "markdown",
      "metadata": {
        "id": "Y0DyLwg1n7UT"
      },
      "source": [
        "Obviously, some of these digits are very easy to classify for a human.  We can get more fine-grained analysis of the digit errors by computing the confusion matrix."
      ]
    },
    {
      "cell_type": "code",
      "execution_count": null,
      "metadata": {
        "colab": {
          "base_uri": "https://localhost:8080/",
          "height": 461
        },
        "id": "lvZubVR6n7UT",
        "outputId": "42765ac0-55e0-4cf0-bedc-46a15f41c43b"
      },
      "outputs": [
        {
          "name": "stdout",
          "output_type": "stream",
          "text": [
            "[[0.941 0.    0.017 0.006 0.    0.012 0.006 0.008 0.011 0.002]\n",
            " [0.    0.974 0.    0.006 0.    0.007 0.004 0.006 0.006 0.   ]\n",
            " [0.014 0.017 0.831 0.033 0.006 0.002 0.039 0.032 0.028 0.004]\n",
            " [0.004 0.006 0.025 0.85  0.002 0.06  0.006 0.013 0.028 0.016]\n",
            " [0.002 0.004 0.01  0.    0.871 0.002 0.027 0.011 0.008 0.069]\n",
            " [0.006 0.004 0.008 0.033 0.014 0.821 0.037 0.017 0.023 0.012]\n",
            " [0.012 0.002 0.006 0.002 0.022 0.019 0.93  0.004 0.004 0.   ]\n",
            " [0.    0.013 0.017 0.01  0.012 0.    0.    0.885 0.004 0.065]\n",
            " [0.008 0.026 0.025 0.043 0.01  0.06  0.043 0.026 0.711 0.035]\n",
            " [0.006 0.006 0.002 0.03  0.067 0.014 0.002 0.032 0.    0.837]]\n"
          ]
        },
        {
          "data": {
            "text/plain": [
              "<matplotlib.colorbar.Colorbar at 0x7f700712e250>"
            ]
          },
          "execution_count": 15,
          "metadata": {},
          "output_type": "execute_result"
        },
        {
          "data": {
            "image/png": "[encoded data removed]",
            "text/plain": [
              "<Figure size 432x288 with 2 Axes>"
            ]
          },
          "metadata": {
            "needs_background": "light"
          },
          "output_type": "display_data"
        }
      ],
      "source": [
        "from sklearn.metrics import confusion_matrix\n",
        "C = confusion_matrix(yts1,yhat)\n",
        "\n",
        "# Normalize the confusion matrix\n",
        "Csum = np.sum(C,1)\n",
        "C = C / Csum[None,:]\n",
        "\n",
        "# Print the confusion matrix\n",
        "print(np.array_str(C, precision=3, suppress_small=True))\n",
        "plt.imshow(C, interpolation='none')\n",
        "plt.colorbar()"
      ]
    },
    {
      "cell_type": "markdown",
      "metadata": {
        "id": "O2Ag7Rm0n7UT"
      },
      "source": [
        "## Visualizing the Weights\n",
        "\n",
        "To see the problem with the logistic classifier, it is useful to plot the weights for each digit.  "
      ]
    },
    {
      "cell_type": "code",
      "execution_count": null,
      "metadata": {
        "colab": {
          "base_uri": "https://localhost:8080/",
          "height": 325
        },
        "id": "2qd53sqEn7UT",
        "outputId": "73c41f83-7402-4219-a604-fc3c6671e83d"
      },
      "outputs": [
        {
          "data": {
            "image/png": "[encoded data removed]",
            "text/plain": [
              "<Figure size 720x432 with 10 Axes>"
            ]
          },
          "metadata": {},
          "output_type": "display_data"
        }
      ],
      "source": [
        "W = logreg.coef_\n",
        "nlabel = W.shape[0]\n",
        "plt.figure(figsize=(10, 6))\n",
        "for i in range(nlabel):\n",
        "    plt.subplot(2,5,i+1)\n",
        "    plt_digit(W[i,:])\n",
        "    plt.title('{0:d}'.format(i))"
      ]
    },
    {
      "cell_type": "markdown",
      "metadata": {
        "id": "i7iEs1zCn7UU"
      },
      "source": [
        "What you see is that each weight is a very blurry version of the digit.  The blurriness is due to the fact that weight must correlate with all shifts, rotations and other variations of the digits.  As a result, the weights begin to correlate with other incorrect digits leading to poor performance."
      ]
    },
    {
      "attachments": {},
      "cell_type": "markdown",
      "metadata": {
        "id": "fLK0e7I1n7UU"
      },
      "source": [
        "## Run an SVM classifier using the RBF kernel\n",
        "\n",
        "We now try an SVM classifier.  The parameters are given by \n",
        "\n",
        "https://martin-thoma.com/svm-with-sklearn/\n",
        "\n",
        "This website has a nice summary of the main equations for SVM as well.  That site trained on 40000 samples and tested on 20000.  But, to make this run faster, we will train on 1000 and test on 1000.  If you increase to 40000 training samples, you can get past 99% accuracy.\n",
        "\n",
        "First, we import the SVM package and construct the SVC with the parameters."
      ]
    },
    {
      "cell_type": "code",
      "execution_count": null,
      "metadata": {
        "id": "pb4EP8DGn7UU"
      },
      "outputs": [],
      "source": [
        "from sklearn import svm"
      ]
    },
    {
      "cell_type": "code",
      "execution_count": null,
      "metadata": {
        "id": "WFExK__qn7UU"
      },
      "outputs": [],
      "source": [
        "ntr1 = 1000\n",
        "nts1 = 1000\n",
        "Xtr1 = Xtr[Iperm[:ntr1],:]\n",
        "ytr1 = ytr[Iperm[:ntr1]]\n",
        "Xts1 = Xts[Iperm_ts[:nts1],:]\n",
        "yts1 = yts[Iperm_ts[:nts1]]"
      ]
    },
    {
      "cell_type": "code",
      "execution_count": null,
      "metadata": {
        "id": "PdVCb5Ddn7UV"
      },
      "outputs": [],
      "source": [
        "# Create a classifier: a support vector classifier\n",
        "svcrbf = svm.SVC(probability=False, kernel=\"rbf\", C=2.8, gamma=.0073, verbose=10)"
      ]
    },
    {
      "cell_type": "code",
      "execution_count": null,
      "metadata": {
        "colab": {
          "base_uri": "https://localhost:8080/"
        },
        "id": "X5BU5vNLn7UV",
        "outputId": "2b214f6b-92ba-4e0c-a5ef-7a0810d6eeaf"
      },
      "outputs": [
        {
          "name": "stdout",
          "output_type": "stream",
          "text": [
            "[LibSVM]"
          ]
        }
      ],
      "source": [
        "# Can skip this step if loading from previous result \n",
        "svcrbf.fit(Xtr1,ytr1)\n",
        "import pickle\n",
        "with open( \"mnist_svcrbf.pkl\", \"wb\" ) as fp:\n",
        "    pickle.dump( [svcrbf, Xtr1, ytr1], fp)\n",
        "    "
      ]
    },
    {
      "cell_type": "code",
      "execution_count": null,
      "metadata": {
        "id": "PZz8ri0En7UV"
      },
      "outputs": [],
      "source": [
        "# Can skip if you run the previous cell\n",
        "import pickle\n",
        "with open( \"mnist_svcrbf.pkl\", \"rb\" ) as fp:\n",
        "    svcrbf, Xtr1, ytr1 = pickle.load(fp)"
      ]
    },
    {
      "cell_type": "code",
      "execution_count": null,
      "metadata": {
        "id": "0JzD0nT4n7UW"
      },
      "outputs": [],
      "source": [
        "# skip if load from saved result\n",
        "yhat_ts = svcrbf.predict(Xts1)\n",
        "\n",
        "with open(\"mnist_svcrbf_test.pkl\", \"wb\") as fp:\n",
        "    pickle.dump([yhat_ts,yts1,Xts1], fp)"
      ]
    },
    {
      "cell_type": "code",
      "execution_count": null,
      "metadata": {
        "id": "3WnSWW1vn7UW"
      },
      "outputs": [],
      "source": [
        "# skip if you run the previouse cell\n",
        "with open(\"mnist_svcrbf_test.pkl\", \"rb\") as fp:\n",
        "    yhat_ts,yts1,Xts1 = pickle.load(fp)"
      ]
    },
    {
      "cell_type": "code",
      "execution_count": null,
      "metadata": {
        "colab": {
          "base_uri": "https://localhost:8080/"
        },
        "id": "lg1wbT0yn7UW",
        "outputId": "0e65908f-6912-4bd7-aef0-e871949b9e73"
      },
      "outputs": [
        {
          "name": "stdout",
          "output_type": "stream",
          "text": [
            "Accuaracy = 0.941000\n"
          ]
        }
      ],
      "source": [
        "acc = np.mean(yhat_ts == yts1)\n",
        "print('Accuaracy = {0:f}'.format(acc))"
      ]
    },
    {
      "cell_type": "markdown",
      "metadata": {
        "id": "or9RBO_vn7UW"
      },
      "source": [
        "We see that the RBF kernel provides more accurate results. \n",
        "Now let us plot some errors"
      ]
    },
    {
      "cell_type": "code",
      "execution_count": null,
      "metadata": {
        "colab": {
          "base_uri": "https://localhost:8080/",
          "height": 172
        },
        "id": "22Tkaxx3n7UW",
        "outputId": "c9811f6f-b8d5-4e64-c263-f94220412f1b"
      },
      "outputs": [
        {
          "data": {
            "image/png": "[encoded data removed]",
            "text/plain": [
              "<Figure size 720x288 with 4 Axes>"
            ]
          },
          "metadata": {},
          "output_type": "display_data"
        }
      ],
      "source": [
        "Ierr = np.where((yhat_ts != yts1))[0]\n",
        "nplt = 4\n",
        "plt.figure(figsize=(10, 4))\n",
        "for i in range(nplt):        \n",
        "    plt.subplot(1,nplt,i+1)        \n",
        "    ind = Ierr[i]    \n",
        "    plt_digit(Xts1[ind,:])        \n",
        "    title = 'true={0:d} est={1:d}'.format(yts1[ind].astype(int), yhat_ts[ind].astype(int))\n",
        "    plt.title(title)"
      ]
    },
    {
      "cell_type": "markdown",
      "metadata": {
        "id": "5_tKQApvn7UW"
      },
      "source": [
        "We see that again a human would not have made these errors, but the digits in error are much less clear."
      ]
    },
    {
      "cell_type": "markdown",
      "metadata": {
        "id": "J_OYdS5rn7UW"
      },
      "source": [
        "## Looking at the Support Vectors\n",
        "\n",
        "Let's take a look at the support vectors.  We see there about 5000 support vectors.  So, about half the training samples were used as SVs, more than that for the linear kernel.  This is partly why the prediction was so slow."
      ]
    },
    {
      "cell_type": "code",
      "execution_count": null,
      "metadata": {
        "colab": {
          "base_uri": "https://localhost:8080/"
        },
        "id": "ytTrafm1n7UW",
        "outputId": "3d871bb1-399b-48c9-b62e-a37ff44ddbe6"
      },
      "outputs": [
        {
          "data": {
            "text/plain": [
              "(875, 784)"
            ]
          },
          "execution_count": 28,
          "metadata": {},
          "output_type": "execute_result"
        }
      ],
      "source": [
        "S = svcrbf.support_vectors_\n",
        "S.shape"
      ]
    },
    {
      "cell_type": "markdown",
      "metadata": {
        "id": "6XCLdYi6n7UW"
      },
      "source": [
        "We can plot some of the vectors."
      ]
    },
    {
      "cell_type": "code",
      "execution_count": null,
      "metadata": {
        "colab": {
          "base_uri": "https://localhost:8080/",
          "height": 156
        },
        "id": "bdQyjpD0n7UW",
        "outputId": "b484bf8a-760e-4e27-c0ab-74aaabd9bbd1"
      },
      "outputs": [
        {
          "data": {
            "image/png": "[encoded data removed]",
            "text/plain": [
              "<Figure size 720x288 with 4 Axes>"
            ]
          },
          "metadata": {},
          "output_type": "display_data"
        }
      ],
      "source": [
        "nplt = 4\n",
        "nsv = S.shape[0]\n",
        "Iperms = np.random.permutation(nsv)\n",
        "plt.figure(figsize=(10, 4))\n",
        "for i in range(nplt):        \n",
        "    plt.subplot(1,nplt,i+1)        \n",
        "    ind = Iperms[i]\n",
        "    plt_digit(S[ind,:])        "
      ]
    },
    {
      "cell_type": "markdown",
      "metadata": {
        "collapsed": true,
        "id": "a7oEC15Qn7UW"
      },
      "source": [
        "# References\n",
        "DS GA 1003 Spring 2020"
      ]
    }
  ],
  "metadata": {
    "anaconda-cloud": {},
    "colab": {
      "provenance": []
    },
    "kernelspec": {
      "display_name": "Python 3",
      "language": "python",
      "name": "python3"
    },
    "language_info": {
      "codemirror_mode": {
        "name": "ipython",
        "version": 3
      },
      "file_extension": ".py",
      "mimetype": "text/x-python",
      "name": "python",
      "nbconvert_exporter": "python",
      "pygments_lexer": "ipython3",
      "version": "3.7.4"
    }
  },
  "nbformat": 4,
  "nbformat_minor": 0
}
